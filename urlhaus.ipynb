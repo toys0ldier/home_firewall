{
 "cells": [
  {
   "cell_type": "markdown",
   "metadata": {},
   "source": [
    "## Generate URLHaus IOC's for Firewalla Target List\n",
    "\n",
    "Copies to clipboard the 200 most recent URL IOC's derived from the URLHaus database (30-day limited): https://urlhaus.abuse.ch/downloads/csv_recent/"
   ]
  },
  {
   "cell_type": "code",
   "execution_count": 12,
   "metadata": {},
   "outputs": [
    {
     "data": {
      "text/plain": [
       "CompletedProcess(args='pbcopy', returncode=0)"
      ]
     },
     "execution_count": 12,
     "metadata": {},
     "output_type": "execute_result"
    }
   ],
   "source": [
    "\n",
    "\n",
    "import requests, subprocess\n",
    "from urllib.parse import urlparse\n",
    "\n",
    "response = requests.get('https://urlhaus.abuse.ch/downloads/csv_recent/')\n",
    "\n",
    "ips = set()\n",
    "\n",
    "for line in response.text.split('\\n')[8:]:\n",
    "    try:\n",
    "        ioc = line.split(',')[2]\n",
    "        ip = urlparse(ioc.strip('\"')).hostname\n",
    "        if ip and len(ips) < 200:\n",
    "            ips.add(ip)\n",
    "    except IndexError:\n",
    "        pass\n",
    "    \n",
    "data = '\\n'.join(ips)\n",
    "subprocess.run('pbcopy', universal_newlines=True, input=data)"
   ]
  }
 ],
 "metadata": {
  "kernelspec": {
   "display_name": "Python 3.9.13 ('Projects-ZIKamQqy')",
   "language": "python",
   "name": "python3"
  },
  "language_info": {
   "codemirror_mode": {
    "name": "ipython",
    "version": 3
   },
   "file_extension": ".py",
   "mimetype": "text/x-python",
   "name": "python",
   "nbconvert_exporter": "python",
   "pygments_lexer": "ipython3",
   "version": "3.9.13"
  },
  "orig_nbformat": 4,
  "vscode": {
   "interpreter": {
    "hash": "5dd9f73f28359a883201317b0e538ea371f798e37495aafb23e09a9763eae103"
   }
  }
 },
 "nbformat": 4,
 "nbformat_minor": 2
}
